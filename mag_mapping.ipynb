{
 "cells": [
  {
   "cell_type": "code",
   "execution_count": null,
   "metadata": {},
   "outputs": [],
   "source": [
    "import pandas as pd\n",
    "import numpy as np\n",
    "import matplotlib.pyplot as plt\n",
    "import plotly.graph_objects as go\n",
    "import chart_studio.plotly as ply\n",
    "import os\n",
    "from scipy import interpolate as interp\n",
    "from scipy.signal import spectrogram, firwin, filtfilt, hilbert\n",
    "from utilities.signal_analysis_methods import get_harmonic_envelope, get_total_envelope\n",
    "import utm"
   ]
  },
  {
   "cell_type": "code",
   "execution_count": null,
   "metadata": {},
   "outputs": [],
   "source": [
    "mag_path = 'data/mag_engi_7-3-25.csv'\n",
    "gps_path = 'data/gps_engi_7-3-25.csv'\n",
    "\n",
    "# Magnetic secondary coil data acquisition rate and primary coil driving frequency\n",
    "sample_rate = int(2e3) # in [Hz]\n",
    "driving_frequency = 100 # in [Hz]\n",
    "\n",
    "mag_data = pd.read_csv(mag_path)\n",
    "mag_times = mag_data['Times (s)'].to_numpy()[:sample_rate*500]\n",
    "mag_ch1_voltages = mag_data['Secondary Ch 1 Voltage (V)'].to_numpy()[:sample_rate*500]\n",
    "mag_ch2_voltages = mag_data['Secondary Ch 2 Voltage (V)'].to_numpy()[:sample_rate*500]\n",
    "mag_primary_voltages = mag_data['Primary Voltage (V)'].to_numpy()[:sample_rate*500]\n",
    "# AC voltages computed by subtracting means from raw voltages\n",
    "mag_ch1_ac_voltages = mag_ch1_voltages-np.mean(mag_ch1_voltages)\n",
    "mag_ch2_ac_voltages = mag_ch2_voltages-np.mean(mag_ch2_voltages)\n",
    "mag_primary_ac_voltages = mag_primary_voltages-np.mean(mag_primary_voltages)\n",
    "\n",
    "gps_data = pd.read_csv(gps_path)\n",
    "gps_times = gps_data['Times (s)'].to_numpy()[:500]\n",
    "gps_lat = gps_data['Latitude'].to_numpy()[:500]\n",
    "gps_lon = gps_data['Longitude'].to_numpy()[:500]\n",
    "gps_headings = gps_data['Heading'].to_numpy()[:500]\n",
    "# Conversion from GPS global latitude and longitude to UTM latitude and longitude (in [m])\n",
    "utm_lat, utm_lon, zone_num, zone_letter = utm.from_latlon(gps_lat, gps_lon)"
   ]
  },
  {
   "cell_type": "markdown",
   "metadata": {},
   "source": [
    "Computation of RMS Voltages and Harmonic Envelopes"
   ]
  },
  {
   "cell_type": "code",
   "execution_count": null,
   "metadata": {},
   "outputs": [],
   "source": [
    "# Computes RMS voltages \n",
    "num_rms_bins = int(len(mag_ch1_ac_voltages)/sample_rate)\n",
    "mag_ch1_rms_voltages = [np.sqrt(np.mean(np.square(mag_ch1_ac_voltages[i*sample_rate:(i+1)*sample_rate]))).tolist() for i in range(num_rms_bins)]\n",
    "mag_ch2_rms_voltages = [np.sqrt(np.mean(np.square(mag_ch2_ac_voltages[i*sample_rate:(i+1)*sample_rate]))).tolist() for i in range(num_rms_bins)]\n",
    "mag_ch1_rms_voltages = mag_ch1_rms_voltages - np.mean(mag_ch1_rms_voltages)\n",
    "mag_ch2_rms_voltages = mag_ch2_rms_voltages - np.mean(mag_ch2_rms_voltages)\n",
    "\n",
    "# Computes harmonic envelopes\n",
    "mag_ch1_fundamental_envelope = get_harmonic_envelope(mag_ch1_ac_voltages, sample_rate, mag_primary_ac_voltages, driving_frequency, 1)[2]\n",
    "mag_ch1_fundamental_envelope = mag_ch1_fundamental_envelope - np.mean(mag_ch1_fundamental_envelope)\n",
    "mag_ch2_fundamental_envelope = get_harmonic_envelope(mag_ch2_ac_voltages, sample_rate, mag_primary_ac_voltages, driving_frequency, 1)[2]\n",
    "mag_ch2_fundamental_envelope = mag_ch2_fundamental_envelope - np.mean(mag_ch2_fundamental_envelope)"
   ]
  },
  {
   "cell_type": "code",
   "execution_count": null,
   "metadata": {},
   "outputs": [],
   "source": [
    "fig = go.Figure()\n",
    "fig.add_trace(go.Scatter(\n",
    "    x= mag_times[::sample_rate], \n",
    "    y= mag_ch1_rms_voltages, \n",
    "    mode='lines', \n",
    "    name='Ch 1 RMS Voltages',\n",
    "    line=dict(color='rebeccapurple', width=2)\n",
    "))\n",
    "fig.add_trace(go.Scatter(\n",
    "    x= mag_times[1000:-1000],\n",
    "    y= mag_ch1_fundamental_envelope[1000:-1000]-np.mean(mag_ch1_fundamental_envelope[1000:-1000]),   \n",
    "    mode='lines', \n",
    "    name='Ch 1 Fundamental Envelope',\n",
    "    line=dict(color='royalblue', width=2)\n",
    "))\n",
    "fig.update_layout(\n",
    "    title='Ch 1 RMS Voltage and Fundamental Envelope vs. Time',\n",
    "    xaxis_title='Time (s)',\n",
    "    yaxis_title='Voltage (V)',\n",
    "    template='plotly_dark',\n",
    "    hovermode='x unified',\n",
    ")\n",
    "fig.show()\n",
    "\n",
    "fig = go.Figure()\n",
    "fig.add_trace(go.Scatter(\n",
    "    x= gps_times, \n",
    "    y= gps_headings[1:]-gps_headings[:-1], \n",
    "    mode='lines', \n",
    "    name='GPS Heading Change',\n",
    "    line=dict(color='rebeccapurple', width=2),\n",
    "    showlegend=True\n",
    "))\n",
    "fig.update_layout(\n",
    "    title='Heading Change vs. Time',\n",
    "    xaxis_title='Time (s)',\n",
    "    yaxis_title='Heading Change (degrees)',\n",
    "    template='plotly_dark',\n",
    "    hovermode='x unified',\n",
    ")\n",
    "fig.show()"
   ]
  },
  {
   "cell_type": "markdown",
   "metadata": {},
   "source": [
    "Removing Turns from Magnetic Data"
   ]
  },
  {
   "cell_type": "code",
   "execution_count": null,
   "metadata": {},
   "outputs": [],
   "source": [
    "for i in range(len(gps_headings)):\n",
    "    if abs(gps_headings[i] - gps_headings[i-1]) > 5:\n",
    "        # Removes data with some margin around the start and end of a turn\n",
    "        mag_ch1_rms_voltages[i-3:i+3] = 0\n",
    "        mag_ch2_rms_voltages[i-3:i+3] = 0\n",
    "        mag_ch1_fundamental_envelope[int((i-3)*sample_rate):int((i+3)*sample_rate)] = 0\n",
    "        mag_ch2_fundamental_envelope[int((i-3)*sample_rate):int((i+3)*sample_rate)] = 0"
   ]
  },
  {
   "cell_type": "code",
   "execution_count": null,
   "metadata": {},
   "outputs": [],
   "source": [
    "fig = go.Figure()\n",
    "fig.add_trace(go.Scatter(\n",
    "    x= mag_times[::sample_rate], \n",
    "    y= mag_ch1_rms_voltages, \n",
    "    mode='lines', \n",
    "    name='Ch 1 RMS Voltages',\n",
    "    line=dict(color='rebeccapurple', width=2)\n",
    "))\n",
    "fig.add_trace(go.Scatter(\n",
    "    x= mag_times[1000:-1000],\n",
    "    y= mag_ch1_fundamental_envelope[1000:-1000]-np.mean(mag_ch1_fundamental_envelope[1000:-1000]),   \n",
    "    mode='lines', \n",
    "    name='Ch 1 Fundamental Envelope',\n",
    "    line=dict(color='royalblue', width=2)\n",
    "))\n",
    "fig.update_layout(\n",
    "    title='Ch 1 RMS Voltage and Fundamental Envelope vs. Time',\n",
    "    xaxis_title='Time (s)',\n",
    "    yaxis_title='Voltage (V)',\n",
    "    template='plotly_dark',\n",
    "    hovermode='x unified',\n",
    ")\n",
    "fig.show()"
   ]
  },
  {
   "cell_type": "markdown",
   "metadata": {},
   "source": [
    "Interpolation of RMS Voltages and Harmonic Envelopes to GPS Coordinates"
   ]
  },
  {
   "cell_type": "code",
   "execution_count": null,
   "metadata": {},
   "outputs": [],
   "source": [
    "# Interpolates rms mag data to gps coords\n",
    "mag_ch1_voltages_interp = interp.interp1d(mag_times[::sample_rate], mag_ch1_rms_voltages, kind='cubic', fill_value='extrapolate')\n",
    "mag_ch2_voltages_interp = interp.interp1d(mag_times[::sample_rate], mag_ch2_rms_voltages, kind='cubic', fill_value='extrapolate')\n",
    "mag_ch1_voltages_at_gps_coords = mag_ch1_voltages_interp(gps_times)\n",
    "mag_ch2_voltages_at_gps_coords = mag_ch2_voltages_interp(gps_times)\n",
    "\n",
    "# Interpolates fundamental frequency mag data to gps coords\n",
    "mag_ch1_fundamental_envelope_interp = interp.interp1d(mag_times, mag_ch1_fundamental_envelope, kind='cubic', fill_value='extrapolate')\n",
    "mag_ch1_fundamental_envelope_at_gps_coords = mag_ch1_fundamental_envelope_interp(gps_times)\n",
    "mag_ch2_fundamental_envelope_interp = interp.interp1d(mag_times, mag_ch2_fundamental_envelope, kind='cubic', fill_value='extrapolate')\n",
    "mag_ch2_fundamental_envelope_at_gps_coords = mag_ch2_fundamental_envelope_interp(gps_times)"
   ]
  },
  {
   "cell_type": "markdown",
   "metadata": {},
   "source": [
    "Mapping of Secondary Coil Voltages and Complex Field Phase"
   ]
  },
  {
   "cell_type": "code",
   "execution_count": null,
   "metadata": {},
   "outputs": [],
   "source": [
    "mag_map = plt.scatter(x=utm_lat[10:-10]%1000, y=utm_lon[10:-10]%1000, c=mag_ch1_fundamental_envelope_at_gps_coords[10:-10], cmap='viridis')\n",
    "plt.colorbar(mag_map, label='Voltage (V)')\n",
    "plt.xlabel('Latitude (m)')\n",
    "plt.ylabel('Longitude (m)')\n",
    "plt.title('Ch 1 Fundamental Envelope Map')\n",
    "plt.axis('equal')\n",
    "plt.grid(True)\n",
    "plt.show()\n",
    "\n",
    "mag_map = plt.scatter(x=utm_lat[10:-10]%1000, y=utm_lon[10:-10]%1000, c=mag_ch1_fundamental_envelope_at_gps_coords[10:-10], cmap='viridis')\n",
    "plt.colorbar(mag_map, label='Voltage (V)')\n",
    "plt.xlabel('Latitude (m)')\n",
    "plt.ylabel('Longitude (m)')\n",
    "plt.title('Ch 1 Fundamental Envelope Map')\n",
    "plt.axis('equal')\n",
    "plt.grid(True)\n",
    "plt.show()\n",
    "\n",
    "mag_map = plt.scatter(x=utm_lat%1000, y=utm_lon%1000, c=mag_ch1_voltages_at_gps_coords, cmap='viridis')\n",
    "plt.colorbar(mag_map, label='Voltage (V)')\n",
    "plt.xlabel('Latitude (m)')\n",
    "plt.ylabel('Longitude (m)')\n",
    "plt.title('Ch 1 RMS Voltage Map')\n",
    "plt.axis('equal')\n",
    "plt.grid(True)\n",
    "plt.show()\n",
    "\n",
    "mag_map = plt.scatter(x=utm_lat%1000, y=utm_lon%1000, c=mag_ch2_voltages_at_gps_coords, cmap='viridis')\n",
    "plt.colorbar(mag_map, label='Ch 2 Voltage (V)')\n",
    "plt.xlabel('Latitude (m)')\n",
    "plt.ylabel('Longitude (m)')\n",
    "plt.title('Ch 2 Voltage Map')\n",
    "plt.axis('equal')\n",
    "plt.grid(True)\n",
    "plt.show()\n",
    "\n",
    "mag_field_phase = np.arctan2(mag_ch2_voltages_at_gps_coords, mag_ch1_voltages_at_gps_coords)\n",
    "mag_map = plt.scatter(x=utm_lat%1000, y=utm_lon%1000, c=mag_field_phase, cmap='viridis')\n",
    "plt.colorbar(mag_map, label='arctan(Ch2/Ch1)')\n",
    "plt.xlabel('Latitude (m)')\n",
    "plt.ylabel('Longitude (m)')\n",
    "plt.title('Phase Map')\n",
    "plt.axis('equal')\n",
    "plt.grid(True)\n",
    "plt.show()"
   ]
  },
  {
   "cell_type": "code",
   "execution_count": null,
   "metadata": {},
   "outputs": [],
   "source": [
    "logname = \"arcgis_data.csv\"\n",
    "path = os.path.expanduser('data/'+logname)\n",
    "logfile = open(path, \"w\")\n",
    "logfile.write(\"Times (s),GPS Lat,GPS Lon,Ch 1 Voltage (V),Ch 2 Voltage (V),Phase\\n\")\n",
    "for i in range(len(gps_times)):\n",
    "        logfile.write(f\"{gps_times[i]},{gps_lat[i]},{gps_lon[i]},\\\n",
    "                        {mag_ch1_voltages_at_gps_coords[i]:.7f},{mag_ch2_voltages_at_gps_coords[i]:.7f},{mag_field_phase[i]:.7f}\\n\")\n",
    "logfile.close()"
   ]
  }
 ],
 "metadata": {
  "kernelspec": {
   "display_name": "FDEM",
   "language": "python",
   "name": "python3"
  },
  "language_info": {
   "codemirror_mode": {
    "name": "ipython",
    "version": 3
   },
   "file_extension": ".py",
   "mimetype": "text/x-python",
   "name": "python",
   "nbconvert_exporter": "python",
   "pygments_lexer": "ipython3",
   "version": "3.12.3"
  }
 },
 "nbformat": 4,
 "nbformat_minor": 2
}
