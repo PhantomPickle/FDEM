{
 "cells": [
  {
   "cell_type": "code",
   "execution_count": null,
   "metadata": {},
   "outputs": [],
   "source": [
    "import pandas as pd\n",
    "import numpy as np\n",
    "import matplotlib.pyplot as plt\n",
    "import os\n",
    "from scipy import interpolate as interp\n",
    "from scipy.signal import spectrogram\n",
    "import utm"
   ]
  },
  {
   "cell_type": "code",
   "execution_count": null,
   "metadata": {},
   "outputs": [],
   "source": [
    "# only first third of this particular dataset was useful, normally none of this should be sliced!!!!!!!!!\n",
    "\n",
    "mag_path = 'data/mag_engi_4-18.csv'\n",
    "gps_path = 'data/gps_engi_4-18.csv'\n",
    "\n",
    "# magnetic coil data acquisition sampling rate\n",
    "sample_rate = int(1e4)\n",
    "mag_data = pd.read_csv(mag_path)\n",
    "mag_times = mag_data['Times (s)'].to_numpy()[:sample_rate*100]\n",
    "mag_ch1_voltages = mag_data[' Ch 1 Voltage (V)'].to_numpy()[:sample_rate*100]\n",
    "mag_ch2_voltages = mag_data[' Ch 2 Voltage (V)'].to_numpy()[:sample_rate*100]\n",
    "# AC voltages computed by subtracting means from raw voltages\n",
    "mag_ch1_ac_voltages = mag_ch1_voltages-np.mean(mag_ch1_voltages)\n",
    "mag_ch2_ac_voltages = mag_ch2_voltages-np.mean(mag_ch2_voltages)\n",
    "# RMS voltages computed by subtracting means from the RMS of the AC voltages\n",
    "num_rms_bins = int(len(mag_ch1_ac_voltages)/sample_rate)\n",
    "mag_ch1_rms_voltages = [np.sqrt(np.mean(np.square(mag_ch1_ac_voltages[i*sample_rate:(i+1)*sample_rate]))).tolist() for i in range(num_rms_bins)]\n",
    "mag_ch2_rms_voltages = [np.sqrt(np.mean(np.square(mag_ch2_ac_voltages[i*sample_rate:(i+1)*sample_rate]))).tolist() for i in range(num_rms_bins)]\n",
    "mag_ch1_rms_voltages = mag_ch1_rms_voltages - np.mean(mag_ch1_rms_voltages)\n",
    "mag_ch2_rms_voltages = mag_ch2_rms_voltages - np.mean(mag_ch2_rms_voltages)\n",
    "\n",
    "gps_data = pd.read_csv(gps_path)\n",
    "gps_times = gps_data['Times (s)'].to_numpy()[:100]\n",
    "gps_lat = gps_data['Latitude'].to_numpy()[:100]\n",
    "gps_lon = gps_data['Longitude'].to_numpy()[:100]\n",
    "\n",
    "# Conversion from GPS global latitude and longitude to UTM latitude and longitude (in [m])\n",
    "utm_lat, utm_lon, zone_num, zone_letter = utm.from_latlon(gps_lat, gps_lon)"
   ]
  },
  {
   "cell_type": "markdown",
   "metadata": {},
   "source": [
    "Interpolation of RMS Voltages to GPS Coordinates"
   ]
  },
  {
   "cell_type": "code",
   "execution_count": null,
   "metadata": {},
   "outputs": [],
   "source": [
    "# Interpolate mag data to gps coords\n",
    "mag_ch1_voltages_interp = interp.interp1d(mag_times[::sample_rate], mag_ch1_rms_voltages, kind='cubic', fill_value='extrapolate')\n",
    "mag_ch2_voltages_interp = interp.interp1d(mag_times[::sample_rate], mag_ch2_rms_voltages, kind='cubic', fill_value='extrapolate')\n",
    "mag_ch1_voltages_at_gps_coords = mag_ch1_voltages_interp(gps_times)\n",
    "mag_ch2_voltages_at_gps_coords = mag_ch2_voltages_interp(gps_times)"
   ]
  },
  {
   "cell_type": "markdown",
   "metadata": {},
   "source": [
    "Mapping of Secondary Coil Voltages and Complex Field Phase"
   ]
  },
  {
   "cell_type": "code",
   "execution_count": null,
   "metadata": {},
   "outputs": [],
   "source": [
    "mag_map = plt.scatter(x=utm_lat%1000, y=utm_lon%1000, c=mag_ch1_voltages_at_gps_coords, cmap='viridis')\n",
    "plt.colorbar(mag_map, label='Ch 1 Voltage (V)')\n",
    "plt.xlabel('Latitude (m)')\n",
    "plt.ylabel('Longitude (m)')\n",
    "plt.title('Ch 1 Voltage Map')\n",
    "plt.axis('equal')\n",
    "plt.grid(True)\n",
    "plt.show()\n",
    "\n",
    "mag_map = plt.scatter(x=utm_lat%1000, y=utm_lon%1000, c=mag_ch2_voltages_at_gps_coords, cmap='viridis')\n",
    "plt.colorbar(mag_map, label='Ch 2 Voltage (V)')\n",
    "plt.xlabel('Latitude (m)')\n",
    "plt.ylabel('Longitude (m)')\n",
    "plt.title('Ch 2 Voltage Map')\n",
    "plt.axis('equal')\n",
    "plt.grid(True)\n",
    "plt.show()\n",
    "\n",
    "mag_field_phase = np.arctan2(mag_ch2_voltages_at_gps_coords, mag_ch1_voltages_at_gps_coords)\n",
    "mag_map = plt.scatter(x=utm_lat%1000, y=utm_lon%1000, c=mag_field_phase, cmap='viridis')\n",
    "plt.colorbar(mag_map, label='arctan(Ch2/Ch1)')\n",
    "plt.xlabel('Latitude (m)')\n",
    "plt.ylabel('Longitude (m)')\n",
    "plt.title('Phase Map')\n",
    "plt.axis('equal')\n",
    "plt.grid(True)\n",
    "plt.show()"
   ]
  },
  {
   "cell_type": "markdown",
   "metadata": {},
   "source": [
    "Mapping of Secondary Coil Fundamental and Third Harmonic Frequency Components and Complex Field Phase (at the fundamental)"
   ]
  },
  {
   "cell_type": "code",
   "execution_count": null,
   "metadata": {},
   "outputs": [],
   "source": [
    "frequencies, times, Sxx = spectrogram(mag_ch1_ac_voltages, fs=sample_rate, nperseg=1024)\n",
    "mag_ch1_fundamental_interp = interp.interp1d(times, Sxx[10], kind='cubic', fill_value='extrapolate')\n",
    "mag_ch1_fundamental_at_gps_coords = mag_ch1_fundamental_interp(gps_times)\n",
    "mag_map = plt.scatter(x=utm_lat%1000, y=utm_lon%1000, c=mag_ch1_fundamental_at_gps_coords, cmap='magma')\n",
    "plt.colorbar(mag_map, label='Power')\n",
    "plt.xlabel('Latitude (m)')\n",
    "plt.ylabel('Longitude (m)')\n",
    "plt.title('Ch 1 100 Hz Fundamental Map')\n",
    "plt.axis('equal')\n",
    "plt.grid(True)\n",
    "plt.show()\n",
    "\n",
    "frequencies, times, Sxx = spectrogram(mag_ch2_ac_voltages, fs=sample_rate, nperseg=1024)\n",
    "mag_ch2_fundamental_interp = interp.interp1d(times, Sxx[10], kind='cubic', fill_value='extrapolate')\n",
    "mag_ch2_fundamental_at_gps_coords = mag_ch2_fundamental_interp(gps_times)\n",
    "mag_map = plt.scatter(x=utm_lat%1000, y=utm_lon%1000, c=mag_ch2_fundamental_at_gps_coords, cmap='magma')\n",
    "plt.colorbar(mag_map, label='Power')\n",
    "plt.xlabel('Latitude (m)')\n",
    "plt.ylabel('Longitude (m)')\n",
    "plt.title('Ch 2 100 Hz Fundamental Map')\n",
    "plt.axis('equal')\n",
    "plt.grid(True)\n",
    "plt.show()\n",
    "\n",
    "frequencies, times, Sxx = spectrogram(mag_ch1_ac_voltages, fs=sample_rate, nperseg=1024)\n",
    "mag_ch1_3harmonic_interp = interp.interp1d(times, Sxx[30], kind='cubic', fill_value='extrapolate')\n",
    "mag_ch1_3harmonic_at_gps_coords = mag_ch1_3harmonic_interp(gps_times)\n",
    "mag_map = plt.scatter(x=utm_lat%1000, y=utm_lon%1000, c=mag_ch1_fundamental_at_gps_coords, cmap='magma')\n",
    "plt.colorbar(mag_map, label='Power')\n",
    "plt.xlabel('Latitude (m)')\n",
    "plt.ylabel('Longitude (m)')\n",
    "plt.title('Ch 1 300 Hz Harmonic Map')\n",
    "plt.axis('equal')\n",
    "plt.grid(True)\n",
    "plt.show()\n",
    "\n",
    "frequencies, times, Sxx = spectrogram(mag_ch2_ac_voltages, fs=sample_rate, nperseg=1024)\n",
    "mag_ch2_3harmonic_interp = interp.interp1d(times, Sxx[30], kind='cubic', fill_value='magma')\n",
    "mag_ch2_3harmonic_at_gps_coords = mag_ch2_3harmonic_interp(gps_times[1:])\n",
    "mag_map = plt.scatter(x=utm_lat[1:]%1000, y=utm_lon[1:]%1000, c=mag_ch2_3harmonic_at_gps_coords, cmap='viridis')\n",
    "plt.colorbar(mag_map, label='Power')\n",
    "plt.xlabel('Latitude (m)')\n",
    "plt.ylabel('Longitude (m)')\n",
    "plt.title('Ch 2 300 Hz Harmonic Map')\n",
    "plt.axis('equal')\n",
    "plt.grid(True)\n",
    "plt.show()\n",
    "\n",
    "mag_field_phase = np.arctan2(mag_ch2_3harmonic_at_gps_coords, mag_ch1_3harmonic_at_gps_coords[1:])\n",
    "mag_map = plt.scatter(x=utm_lat[1:]%1000, y=utm_lon[1:]%1000, c=mag_field_phase, cmap='magma')\n",
    "plt.colorbar(mag_map, label='arctan(Ch2/Ch1)')\n",
    "plt.xlabel('Latitude (m)')\n",
    "plt.ylabel('Longitude (m)')\n",
    "plt.title('Phase Map of Third Harmonic')\n",
    "plt.axis('equal')\n",
    "plt.grid(True)\n",
    "plt.show()\n"
   ]
  },
  {
   "cell_type": "code",
   "execution_count": null,
   "metadata": {},
   "outputs": [],
   "source": [
    "logname = \"arcgis_data.csv\"\n",
    "path = os.path.expanduser('data/'+logname)\n",
    "logfile = open(path, \"w\")\n",
    "logfile.write(\"Times (s),GPS Lat,GPS Lon,Ch 1 Voltage (V),Ch 2 Voltage (V),Phase\\n\")\n",
    "for i in range(len(gps_times)):\n",
    "        logfile.write(f\"{gps_times[i]},{gps_lat[i]},{gps_lon[i]},\\\n",
    "                        {mag_ch1_voltages_at_gps_coords[i]:.7f},{mag_ch2_voltages_at_gps_coords[i]:.7f},{mag_field_phase[i]:.7f}\\n\")\n",
    "logfile.close()"
   ]
  }
 ],
 "metadata": {
  "kernelspec": {
   "display_name": "FDEM",
   "language": "python",
   "name": "python3"
  },
  "language_info": {
   "codemirror_mode": {
    "name": "ipython",
    "version": 3
   },
   "file_extension": ".py",
   "mimetype": "text/x-python",
   "name": "python",
   "nbconvert_exporter": "python",
   "pygments_lexer": "ipython3",
   "version": "3.12.3"
  }
 },
 "nbformat": 4,
 "nbformat_minor": 2
}
